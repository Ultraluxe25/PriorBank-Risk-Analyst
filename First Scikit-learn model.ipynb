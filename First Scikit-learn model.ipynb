{
 "cells": [
  {
   "cell_type": "code",
   "execution_count": 51,
   "id": "a6276a0a",
   "metadata": {},
   "outputs": [],
   "source": [
    "import xlrd3\n",
    "import numpy as np\n",
    "import pandas as pd\n",
    "import matplotlib.pyplot as plt\n",
    "from sklearn.linear_model import LinearRegression"
   ]
  },
  {
   "cell_type": "code",
   "execution_count": 3,
   "id": "4b83c914",
   "metadata": {},
   "outputs": [
    {
     "name": "stdout",
     "output_type": "stream",
     "text": [
      "Collecting xlrd3\n",
      "  Using cached xlrd3-1.1.0-py2.py3-none-any.whl (105 kB)\n",
      "Installing collected packages: xlrd3\n",
      "Successfully installed xlrd3-1.1.0\n"
     ]
    }
   ],
   "source": [
    "! pip install xlrd3"
   ]
  },
  {
   "cell_type": "code",
   "execution_count": 86,
   "id": "6e5d8bad",
   "metadata": {},
   "outputs": [],
   "source": [
    "file = xlrd3.open_workbook('Данные для статобработки.xlsx')  # точка входа в файл\n",
    "sheet_names = file.sheet_names()  # отображаем название листов экселя\n",
    "task_1 = file.sheet_by_name(sheet_names[0])  # API для взаимодействия с первым листом экселя\n",
    "\n",
    "X = np.array([task_1.row_values(row_number)[0] for row_number in range(1, 501)]) # загоняем в массив значения X и Y\n",
    "Y = np.array([task_1.row_values(row_number)[1] for row_number in range(1, 501)])"
   ]
  },
  {
   "cell_type": "code",
   "execution_count": 87,
   "id": "0e08c674",
   "metadata": {},
   "outputs": [
    {
     "data": {
      "text/plain": [
       "array([  1.,   2.,   3.,   4.,   5.,   6.,   7.,   8.,   9.,  10.,  11.,\n",
       "        12.,  13.,  14.,  15.,  16.,  17.,  18.,  19.,  20.,  21.,  22.,\n",
       "        23.,  24.,  25.,  26.,  27.,  28.,  29.,  30.,  31.,  32.,  33.,\n",
       "        34.,  35.,  36.,  37.,  38.,  39.,  40.,  41.,  42.,  43.,  44.,\n",
       "        45.,  46.,  47.,  48.,  49.,  50.,  51.,  52.,  53.,  54.,  55.,\n",
       "        56.,  57.,  58.,  59.,  60.,  61.,  62.,  63.,  64.,  65.,  66.,\n",
       "        67.,  68.,  69.,  70.,  71.,  72.,  73.,  74.,  75.,  76.,  77.,\n",
       "        78.,  79.,  80.,  81.,  82.,  83.,  84.,  85.,  86.,  87.,  88.,\n",
       "        89.,  90.,  91.,  92.,  93.,  94.,  95.,  96.,  97.,  98.,  99.,\n",
       "       100., 101., 102., 103., 104., 105., 106., 107., 108., 109., 110.,\n",
       "       111., 112., 113., 114., 115., 116., 117., 118., 119., 120., 121.,\n",
       "       122., 123., 124., 125., 126., 127., 128., 129., 130., 131., 132.,\n",
       "       133., 134., 135., 136., 137., 138., 139., 140., 141., 142., 143.,\n",
       "       144., 145., 146., 147., 148., 149., 150., 151., 152., 153., 154.,\n",
       "       155., 156., 157., 158., 159., 160., 161., 162., 163., 164., 165.,\n",
       "       166., 167., 168., 169., 170., 171., 172., 173., 174., 175., 176.,\n",
       "       177., 178., 179., 180., 181., 182., 183., 184., 185., 186., 187.,\n",
       "       188., 189., 190., 191., 192., 193., 194., 195., 196., 197., 198.,\n",
       "       199., 200., 201., 202., 203., 204., 205., 206., 207., 208., 209.,\n",
       "       210., 211., 212., 213., 214., 215., 216., 217., 218., 219., 220.,\n",
       "       221., 222., 223., 224., 225., 226., 227., 228., 229., 230., 231.,\n",
       "       232., 233., 234., 235., 236., 237., 238., 239., 240., 241., 242.,\n",
       "       243., 244., 245., 246., 247., 248., 249., 250., 251., 252., 253.,\n",
       "       254., 255., 256., 257., 258., 259., 260., 261., 262., 263., 264.,\n",
       "       265., 266., 267., 268., 269., 270., 271., 272., 273., 274., 275.,\n",
       "       276., 277., 278., 279., 280., 281., 282., 283., 284., 285., 286.,\n",
       "       287., 288., 289., 290., 291., 292., 293., 294., 295., 296., 297.,\n",
       "       298., 299., 300., 301., 302., 303., 304., 305., 306., 307., 308.,\n",
       "       309., 310., 311., 312., 313., 314., 315., 316., 317., 318., 319.,\n",
       "       320., 321., 322., 323., 324., 325., 326., 327., 328., 329., 330.,\n",
       "       331., 332., 333., 334., 335., 336., 337., 338., 339., 340., 341.,\n",
       "       342., 343., 344., 345., 346., 347., 348., 349., 350., 351., 352.,\n",
       "       353., 354., 355., 356., 357., 358., 359., 360., 361., 362., 363.,\n",
       "       364., 365., 366., 367., 368., 369., 370., 371., 372., 373., 374.,\n",
       "       375., 376., 377., 378., 379., 380., 381., 382., 383., 384., 385.,\n",
       "       386., 387., 388., 389., 390., 391., 392., 393., 394., 395., 396.,\n",
       "       397., 398., 399., 400., 401., 402., 403., 404., 405., 406., 407.,\n",
       "       408., 409., 410., 411., 412., 413., 414., 415., 416., 417., 418.,\n",
       "       419., 420., 421., 422., 423., 424., 425., 426., 427., 428., 429.,\n",
       "       430., 431., 432., 433., 434., 435., 436., 437., 438., 439., 440.,\n",
       "       441., 442., 443., 444., 445., 446., 447., 448., 449., 450., 451.,\n",
       "       452., 453., 454., 455., 456., 457., 458., 459., 460., 461., 462.,\n",
       "       463., 464., 465., 466., 467., 468., 469., 470., 471., 472., 473.,\n",
       "       474., 475., 476., 477., 478., 479., 480., 481., 482., 483., 484.,\n",
       "       485., 486., 487., 488., 489., 490., 491., 492., 493., 494., 495.,\n",
       "       496., 497., 498., 499., 500.])"
      ]
     },
     "execution_count": 87,
     "metadata": {},
     "output_type": "execute_result"
    }
   ],
   "source": [
    "X"
   ]
  },
  {
   "cell_type": "code",
   "execution_count": 66,
   "id": "efc4c37a",
   "metadata": {},
   "outputs": [
    {
     "data": {
      "text/plain": [
       "array([  21.56367601,   37.52777289,   53.12610194,   69.72632948,\n",
       "         85.61703623,  101.04855627,  117.50999918,  133.32912824,\n",
       "        149.9265102 ,  165.36030268,  181.18650471,  197.99412395,\n",
       "        213.84623096,  229.25131162,  245.59909751,  261.20033161,\n",
       "        277.2369815 ,  293.68709217,  309.83032491,  325.34494821,\n",
       "        341.0488757 ,  357.04341948,  373.14130142,  389.12385698,\n",
       "        405.59865182,  421.28043608,  437.85434789,  453.23462899,\n",
       "        469.88144637,  485.20374235,  501.299038  ,  517.85515668,\n",
       "        533.44204987,  549.22145783,  565.79285614,  581.45863619,\n",
       "        597.77212063,  613.34470574,  629.58964213,  645.35245974,\n",
       "        661.02740917,  677.01115513,  693.91043852,  709.12146569,\n",
       "        725.25122347,  741.3407044 ,  757.16485138,  773.31105402,\n",
       "        789.16494726,  805.71945666,  821.14253633,  837.3549455 ,\n",
       "        853.6386283 ,  869.5896372 ,  885.2661425 ,  901.16377943,\n",
       "        917.48008957,  933.62881189,  949.3596727 ,  965.13497711,\n",
       "        981.88475805,  997.94952684, 1013.85344132, 1029.94638924,\n",
       "       1045.02547253, 1061.08399406, 1077.49236321, 1093.95843155,\n",
       "       1109.38983134, 1125.54698189, 1141.84641725, 1157.60488006,\n",
       "       1173.71704971, 1189.10776602, 1205.4471599 , 1221.49120204,\n",
       "       1237.80249345, 1253.37494416, 1269.18716559, 1285.40342541,\n",
       "       1301.04822556, 1317.77526615, 1333.66101498, 1349.40391209,\n",
       "       1365.03239878, 1381.3562362 , 1397.77662336, 1413.51905753,\n",
       "       1429.10832316, 1445.70323595, 1461.7669948 , 1477.02832059,\n",
       "       1493.57844005, 1509.62562584, 1525.7162049 , 1541.44929595,\n",
       "       1557.80108839, 1573.34676782, 1589.16458922, 1605.295529  ,\n",
       "       1621.68444855, 1637.65356049, 1653.83791264, 1669.78478882,\n",
       "       1685.1037302 , 1701.65061471, 1717.99312801, 1733.83801654,\n",
       "       1749.70041068, 1765.996243  , 1781.78579611, 1797.02310392,\n",
       "       1813.70696474, 1829.78992033, 1845.55415452, 1861.55089723,\n",
       "       1877.71159544, 1893.44894366, 1909.52876141, 1925.92509915,\n",
       "       1941.57788413, 1957.22175719, 1973.4268602 , 1989.95483052,\n",
       "       2005.45691879, 2021.04429378, 2037.68789308, 2053.44771603,\n",
       "       2069.82325959, 2085.55219995, 2101.20725295, 2117.49695105,\n",
       "       2133.78382436, 2149.42821454, 2165.86939461, 2181.107297  ,\n",
       "       2197.97749358, 2213.13151066, 2229.28258894, 2245.42659003,\n",
       "       2261.38100013, 2277.11264746, 2293.31695724, 2309.6985691 ,\n",
       "       2325.53961217, 2341.72329583, 2357.33424809, 2373.9640195 ,\n",
       "       2389.53969581, 2405.86529851, 2421.42403412, 2437.39326428,\n",
       "       2453.17156033, 2469.08003597, 2485.57446126, 2501.87862711,\n",
       "       2517.18143487, 2533.61219702, 2549.85115163, 2565.16017332,\n",
       "       2581.94662982, 2597.12027981, 2613.18119273, 2629.39924691,\n",
       "       2645.23997237, 2661.63748162, 2677.95949032, 2693.5173232 ,\n",
       "       2709.63148762, 2725.34706521, 2741.07111454, 2757.77448129,\n",
       "       2773.85675476, 2789.43637003, 2805.41317583, 2821.43642622,\n",
       "       2837.6795086 , 2853.23552346, 2869.27266708, 2885.53095161,\n",
       "       2901.18391337, 2917.40602584, 2933.0179486 , 2949.97250044,\n",
       "       2965.38177663, 2981.33155927, 2997.02239641, 3013.28160824,\n",
       "       3029.57002543, 3045.94740221, 3061.0135835 , 3077.42177211,\n",
       "       3093.52477893, 3109.8356085 , 3125.06141691, 3141.21498844,\n",
       "       3157.58589879, 3173.68875763, 3189.55882759, 3205.45035513,\n",
       "       3221.30049619, 3237.21474798, 3253.62635415, 3269.32476008,\n",
       "       3285.64637721, 3301.4775341 , 3317.55245114, 3333.44049258,\n",
       "       3349.14223903, 3365.81981103, 3381.85203016, 3397.61191722,\n",
       "       3413.2967965 , 3429.15844756, 3445.09565117, 3461.81083526,\n",
       "       3477.82912358, 3493.05711594, 3509.27752578, 3525.80227999,\n",
       "       3541.55268386, 3557.50283421, 3573.68751753, 3589.99345616,\n",
       "       3605.64338913, 3621.77244603, 3637.12579524, 3653.3712928 ,\n",
       "       3669.46653194, 3685.48902523, 3701.12206336, 3717.72452138,\n",
       "       3733.19802075, 3749.94978954, 3765.08845219, 3781.10723412,\n",
       "       3797.68410775, 3813.05400106, 3829.07019993, 3845.42408305,\n",
       "       3861.78120621, 3877.49030587, 3893.26479794, 3909.73692036,\n",
       "       3925.00642092, 3941.67641233, 3957.76408587, 3973.24426194,\n",
       "       3989.20679056, 4005.64351818, 4021.86461107, 4037.70297212,\n",
       "       4053.6940449 , 4069.8564896 , 4085.27741305, 4101.06178025,\n",
       "       4117.37642813, 4133.26957249, 4149.06618339, 4165.86361431,\n",
       "       4181.22831734, 4197.8580052 , 4213.66765438, 4229.04843339,\n",
       "       4245.03207664, 4261.70098085, 4277.65685106, 4293.32949527,\n",
       "       4309.98518689, 4325.79940425, 4341.56036723, 4357.91935412,\n",
       "       4373.35609316, 4389.1521022 , 4405.25533024, 4421.45087551,\n",
       "       4437.93882426, 4453.3100599 , 4469.06768005, 4485.44480681,\n",
       "       4501.95145653, 4517.60105961, 4533.58187872, 4549.75547866,\n",
       "       4565.06982522, 4581.23458671, 4597.93575008, 4613.93735548,\n",
       "       4629.21726286, 4645.89798757, 4661.7659478 , 4677.32686919,\n",
       "       4693.43592071, 4709.06887483, 4725.17264938, 4741.27505191,\n",
       "       4757.22760568, 4773.86415448, 4789.28907924, 4805.17508982,\n",
       "       4821.47546745, 4837.78311756, 4853.58784276, 4869.91871031,\n",
       "       4885.78476796, 4901.55807184, 4917.15420431, 4933.35237829,\n",
       "       4949.98519082, 4965.72761937, 4981.56854242, 4997.54575726,\n",
       "       5013.10758831, 5029.83705166, 5045.90189923, 5061.27755588,\n",
       "       5077.71360876, 5093.39037026, 5109.30391073, 5125.2505385 ,\n",
       "       5141.94317688, 5157.88641337, 5173.16236956, 5189.7045093 ,\n",
       "       5205.84473153, 5221.80495163, 5237.16394417, 5253.11783943,\n",
       "       5269.26007129, 5285.32076725, 5301.82076917, 5317.49928953,\n",
       "       5333.15930027, 5349.31654906, 5365.29726885, 5381.97732939,\n",
       "       5397.04386099, 5413.87845926, 5429.87137388, 5445.909097  ,\n",
       "       5461.26193969, 5477.94067567, 5493.48914462, 5509.9171799 ,\n",
       "       5525.19055043, 5541.25790277, 5557.99171826, 5573.8397033 ,\n",
       "       5589.91274341, 5605.60514834, 5621.69603955, 5637.64420745,\n",
       "       5653.36713299, 5669.18177242, 5685.20182214, 5701.0486298 ,\n",
       "       5717.25852556, 5733.26394845, 5749.60733925, 5765.58580629,\n",
       "       5781.24224471, 5797.26462171, 5813.19773095, 5829.02426698,\n",
       "       5845.9365052 , 5861.42432575, 5877.91912404, 5893.46053137,\n",
       "       5909.57927288, 5925.29870729, 5941.1421977 , 5957.70366193,\n",
       "       5973.98948881, 5989.6460336 , 6005.15868606, 6021.91503285,\n",
       "       6037.21883981, 6053.34534565, 6069.84019076, 6085.81392554,\n",
       "       6101.59872153, 6117.61581645, 6133.31265865, 6149.68764222,\n",
       "       6165.55653542, 6181.91296333, 6197.58044842, 6213.70906061,\n",
       "       6229.59668399, 6245.31697146, 6261.42718459, 6277.41496047,\n",
       "       6293.19381876, 6309.07874395, 6325.29252473, 6341.89729511,\n",
       "       6357.67998161, 6373.05760939, 6389.74416472, 6405.53469963,\n",
       "       6421.14292935, 6437.78966645, 6453.75380365, 6469.55618355,\n",
       "       6485.74383963, 6501.03837662, 6517.13524345, 6533.51175188,\n",
       "       6549.70053225, 6565.04829646, 6581.20755137, 6597.1048274 ,\n",
       "       6613.43193263, 6629.97040035, 6645.02737392, 6661.11848707,\n",
       "       6677.14756145, 6693.44134021, 6709.50203356, 6725.40328502,\n",
       "       6741.56483437, 6757.87309148, 6773.9610209 , 6789.09988152,\n",
       "       6805.12795509, 6821.31633011, 6837.7802151 , 6853.47400769,\n",
       "       6869.63683408, 6885.54981885, 6901.77286477, 6917.3143244 ,\n",
       "       6933.90661486, 6949.06705966, 6965.44726915, 6981.83750227,\n",
       "       6997.8820942 , 7013.81438228, 7029.62316047, 7045.48016697,\n",
       "       7061.87761488, 7077.37087565, 7093.5779255 , 7109.76067729,\n",
       "       7125.05544262, 7141.39454837, 7157.70706764, 7173.45431503,\n",
       "       7189.51925242, 7205.10883483, 7221.98621157, 7237.11264786,\n",
       "       7253.31528125, 7269.96877996, 7285.31046697, 7301.95852755,\n",
       "       7317.52138423, 7333.55280287, 7349.18538705, 7365.06248262,\n",
       "       7381.07044545, 7397.41507   , 7413.19325845, 7429.75663358,\n",
       "       7445.63114109, 7461.99542131, 7477.00393053, 7493.11360584,\n",
       "       7509.3660428 , 7525.62587653, 7541.90197797, 7557.91710548,\n",
       "       7573.03287846, 7589.36250582, 7605.91016351, 7621.91609487,\n",
       "       7637.23068293, 7653.39411797, 7669.21541809, 7685.55879583,\n",
       "       7701.12907656, 7717.80016048, 7733.27249087, 7749.01757795,\n",
       "       7765.26687382, 7781.68768373, 7797.44893084, 7813.96354577,\n",
       "       7829.61496404, 7845.17074261, 7861.69064421, 7877.1844311 ,\n",
       "       7893.39945328, 7909.2370533 , 7925.04803179, 7941.16681847,\n",
       "       7957.48854399, 7973.38538691, 7989.42645785, 8005.48182382])"
      ]
     },
     "execution_count": 66,
     "metadata": {},
     "output_type": "execute_result"
    }
   ],
   "source": [
    "Y"
   ]
  },
  {
   "cell_type": "code",
   "execution_count": 88,
   "id": "1d33b739",
   "metadata": {},
   "outputs": [
    {
     "data": {
      "text/html": [
       "<div>\n",
       "<style scoped>\n",
       "    .dataframe tbody tr th:only-of-type {\n",
       "        vertical-align: middle;\n",
       "    }\n",
       "\n",
       "    .dataframe tbody tr th {\n",
       "        vertical-align: top;\n",
       "    }\n",
       "\n",
       "    .dataframe thead th {\n",
       "        text-align: right;\n",
       "    }\n",
       "</style>\n",
       "<table border=\"1\" class=\"dataframe\">\n",
       "  <thead>\n",
       "    <tr style=\"text-align: right;\">\n",
       "      <th></th>\n",
       "      <th>X</th>\n",
       "      <th>Y</th>\n",
       "    </tr>\n",
       "  </thead>\n",
       "  <tbody>\n",
       "    <tr>\n",
       "      <th>0</th>\n",
       "      <td>1.0</td>\n",
       "      <td>21.563676</td>\n",
       "    </tr>\n",
       "    <tr>\n",
       "      <th>1</th>\n",
       "      <td>2.0</td>\n",
       "      <td>37.527773</td>\n",
       "    </tr>\n",
       "    <tr>\n",
       "      <th>2</th>\n",
       "      <td>3.0</td>\n",
       "      <td>53.126102</td>\n",
       "    </tr>\n",
       "    <tr>\n",
       "      <th>3</th>\n",
       "      <td>4.0</td>\n",
       "      <td>69.726329</td>\n",
       "    </tr>\n",
       "    <tr>\n",
       "      <th>4</th>\n",
       "      <td>5.0</td>\n",
       "      <td>85.617036</td>\n",
       "    </tr>\n",
       "    <tr>\n",
       "      <th>...</th>\n",
       "      <td>...</td>\n",
       "      <td>...</td>\n",
       "    </tr>\n",
       "    <tr>\n",
       "      <th>495</th>\n",
       "      <td>496.0</td>\n",
       "      <td>7941.166818</td>\n",
       "    </tr>\n",
       "    <tr>\n",
       "      <th>496</th>\n",
       "      <td>497.0</td>\n",
       "      <td>7957.488544</td>\n",
       "    </tr>\n",
       "    <tr>\n",
       "      <th>497</th>\n",
       "      <td>498.0</td>\n",
       "      <td>7973.385387</td>\n",
       "    </tr>\n",
       "    <tr>\n",
       "      <th>498</th>\n",
       "      <td>499.0</td>\n",
       "      <td>7989.426458</td>\n",
       "    </tr>\n",
       "    <tr>\n",
       "      <th>499</th>\n",
       "      <td>500.0</td>\n",
       "      <td>8005.481824</td>\n",
       "    </tr>\n",
       "  </tbody>\n",
       "</table>\n",
       "<p>500 rows × 2 columns</p>\n",
       "</div>"
      ],
      "text/plain": [
       "         X            Y\n",
       "0      1.0    21.563676\n",
       "1      2.0    37.527773\n",
       "2      3.0    53.126102\n",
       "3      4.0    69.726329\n",
       "4      5.0    85.617036\n",
       "..     ...          ...\n",
       "495  496.0  7941.166818\n",
       "496  497.0  7957.488544\n",
       "497  498.0  7973.385387\n",
       "498  499.0  7989.426458\n",
       "499  500.0  8005.481824\n",
       "\n",
       "[500 rows x 2 columns]"
      ]
     },
     "execution_count": 88,
     "metadata": {},
     "output_type": "execute_result"
    }
   ],
   "source": [
    "data = {'X': X, 'Y': Y}\n",
    "table = pd.DataFrame(data)\n",
    "table"
   ]
  },
  {
   "cell_type": "code",
   "execution_count": 89,
   "id": "edcd9d21",
   "metadata": {},
   "outputs": [
    {
     "data": {
      "text/plain": [
       "(21.0, 8006.0)"
      ]
     },
     "execution_count": 89,
     "metadata": {},
     "output_type": "execute_result"
    },
    {
     "data": {
      "image/png": "[encoded data removed]",
      "text/plain": [
       "<Figure size 1000x400 with 1 Axes>"
      ]
     },
     "metadata": {},
     "output_type": "display_data"
    }
   ],
   "source": [
    "plt.figure(figsize=(10, 4))\n",
    "plt.scatter(table.X, table.Y)  # Модель очень линейная!\n",
    "plt.xlabel('ось X')  # подписываем оси\n",
    "plt.ylabel('ось Y')\n",
    "plt.xlim(1, 500)  # ограничения на отображение по осям\n",
    "plt.ylim(21, 8006)"
   ]
  },
  {
   "cell_type": "code",
   "execution_count": 90,
   "id": "59e8e7c8",
   "metadata": {},
   "outputs": [
    {
     "data": {
      "text/html": [
       "<div>\n",
       "<style scoped>\n",
       "    .dataframe tbody tr th:only-of-type {\n",
       "        vertical-align: middle;\n",
       "    }\n",
       "\n",
       "    .dataframe tbody tr th {\n",
       "        vertical-align: top;\n",
       "    }\n",
       "\n",
       "    .dataframe thead th {\n",
       "        text-align: right;\n",
       "    }\n",
       "</style>\n",
       "<table border=\"1\" class=\"dataframe\">\n",
       "  <thead>\n",
       "    <tr style=\"text-align: right;\">\n",
       "      <th></th>\n",
       "      <th>X</th>\n",
       "      <th>Y</th>\n",
       "    </tr>\n",
       "  </thead>\n",
       "  <tbody>\n",
       "    <tr>\n",
       "      <th>count</th>\n",
       "      <td>500.000000</td>\n",
       "      <td>500.000000</td>\n",
       "    </tr>\n",
       "    <tr>\n",
       "      <th>mean</th>\n",
       "      <td>250.500000</td>\n",
       "      <td>4013.487580</td>\n",
       "    </tr>\n",
       "    <tr>\n",
       "      <th>std</th>\n",
       "      <td>144.481833</td>\n",
       "      <td>2311.710825</td>\n",
       "    </tr>\n",
       "    <tr>\n",
       "      <th>min</th>\n",
       "      <td>1.000000</td>\n",
       "      <td>21.563676</td>\n",
       "    </tr>\n",
       "    <tr>\n",
       "      <th>25%</th>\n",
       "      <td>125.750000</td>\n",
       "      <td>2017.147450</td>\n",
       "    </tr>\n",
       "    <tr>\n",
       "      <th>50%</th>\n",
       "      <td>250.500000</td>\n",
       "      <td>4013.754065</td>\n",
       "    </tr>\n",
       "    <tr>\n",
       "      <th>75%</th>\n",
       "      <td>375.250000</td>\n",
       "      <td>6009.347773</td>\n",
       "    </tr>\n",
       "    <tr>\n",
       "      <th>max</th>\n",
       "      <td>500.000000</td>\n",
       "      <td>8005.481824</td>\n",
       "    </tr>\n",
       "  </tbody>\n",
       "</table>\n",
       "</div>"
      ],
      "text/plain": [
       "                X            Y\n",
       "count  500.000000   500.000000\n",
       "mean   250.500000  4013.487580\n",
       "std    144.481833  2311.710825\n",
       "min      1.000000    21.563676\n",
       "25%    125.750000  2017.147450\n",
       "50%    250.500000  4013.754065\n",
       "75%    375.250000  6009.347773\n",
       "max    500.000000  8005.481824"
      ]
     },
     "execution_count": 90,
     "metadata": {},
     "output_type": "execute_result"
    }
   ],
   "source": [
    "table.describe()"
   ]
  },
  {
   "cell_type": "code",
   "execution_count": 91,
   "id": "093f4574",
   "metadata": {},
   "outputs": [],
   "source": [
    "model = LinearRegression()"
   ]
  },
  {
   "cell_type": "code",
   "execution_count": 92,
   "id": "a573aa0c",
   "metadata": {},
   "outputs": [],
   "source": [
    "X = table.X  # берём наши Series отдельно\n",
    "Y = table.Y"
   ]
  },
  {
   "cell_type": "code",
   "execution_count": 93,
   "id": "e80b305a",
   "metadata": {},
   "outputs": [
    {
     "data": {
      "text/plain": [
       "(0        1.0\n",
       " 1        2.0\n",
       " 2        3.0\n",
       " 3        4.0\n",
       " 4        5.0\n",
       "        ...  \n",
       " 495    496.0\n",
       " 496    497.0\n",
       " 497    498.0\n",
       " 498    499.0\n",
       " 499    500.0\n",
       " Name: X, Length: 500, dtype: float64,\n",
       " 0        21.563676\n",
       " 1        37.527773\n",
       " 2        53.126102\n",
       " 3        69.726329\n",
       " 4        85.617036\n",
       "           ...     \n",
       " 495    7941.166818\n",
       " 496    7957.488544\n",
       " 497    7973.385387\n",
       " 498    7989.426458\n",
       " 499    8005.481824\n",
       " Name: Y, Length: 500, dtype: float64)"
      ]
     },
     "execution_count": 93,
     "metadata": {},
     "output_type": "execute_result"
    }
   ],
   "source": [
    "X, Y"
   ]
  },
  {
   "cell_type": "code",
   "execution_count": 97,
   "id": "917d8fd2",
   "metadata": {},
   "outputs": [
    {
     "ename": "ValueError",
     "evalue": "Expected 2D array, got 1D array instead:\narray=[  1.   2.   3.   4.   5.   6.   7.   8.   9.  10.  11.  12.  13.  14.\n  15.  16.  17.  18.  19.  20.  21.  22.  23.  24.  25.  26.  27.  28.\n  29.  30.  31.  32.  33.  34.  35.  36.  37.  38.  39.  40.  41.  42.\n  43.  44.  45.  46.  47.  48.  49.  50.  51.  52.  53.  54.  55.  56.\n  57.  58.  59.  60.  61.  62.  63.  64.  65.  66.  67.  68.  69.  70.\n  71.  72.  73.  74.  75.  76.  77.  78.  79.  80.  81.  82.  83.  84.\n  85.  86.  87.  88.  89.  90.  91.  92.  93.  94.  95.  96.  97.  98.\n  99. 100. 101. 102. 103. 104. 105. 106. 107. 108. 109. 110. 111. 112.\n 113. 114. 115. 116. 117. 118. 119. 120. 121. 122. 123. 124. 125. 126.\n 127. 128. 129. 130. 131. 132. 133. 134. 135. 136. 137. 138. 139. 140.\n 141. 142. 143. 144. 145. 146. 147. 148. 149. 150. 151. 152. 153. 154.\n 155. 156. 157. 158. 159. 160. 161. 162. 163. 164. 165. 166. 167. 168.\n 169. 170. 171. 172. 173. 174. 175. 176. 177. 178. 179. 180. 181. 182.\n 183. 184. 185. 186. 187. 188. 189. 190. 191. 192. 193. 194. 195. 196.\n 197. 198. 199. 200. 201. 202. 203. 204. 205. 206. 207. 208. 209. 210.\n 211. 212. 213. 214. 215. 216. 217. 218. 219. 220. 221. 222. 223. 224.\n 225. 226. 227. 228. 229. 230. 231. 232. 233. 234. 235. 236. 237. 238.\n 239. 240. 241. 242. 243. 244. 245. 246. 247. 248. 249. 250. 251. 252.\n 253. 254. 255. 256. 257. 258. 259. 260. 261. 262. 263. 264. 265. 266.\n 267. 268. 269. 270. 271. 272. 273. 274. 275. 276. 277. 278. 279. 280.\n 281. 282. 283. 284. 285. 286. 287. 288. 289. 290. 291. 292. 293. 294.\n 295. 296. 297. 298. 299. 300. 301. 302. 303. 304. 305. 306. 307. 308.\n 309. 310. 311. 312. 313. 314. 315. 316. 317. 318. 319. 320. 321. 322.\n 323. 324. 325. 326. 327. 328. 329. 330. 331. 332. 333. 334. 335. 336.\n 337. 338. 339. 340. 341. 342. 343. 344. 345. 346. 347. 348. 349. 350.\n 351. 352. 353. 354. 355. 356. 357. 358. 359. 360. 361. 362. 363. 364.\n 365. 366. 367. 368. 369. 370. 371. 372. 373. 374. 375. 376. 377. 378.\n 379. 380. 381. 382. 383. 384. 385. 386. 387. 388. 389. 390. 391. 392.\n 393. 394. 395. 396. 397. 398. 399. 400. 401. 402. 403. 404. 405. 406.\n 407. 408. 409. 410. 411. 412. 413. 414. 415. 416. 417. 418. 419. 420.\n 421. 422. 423. 424. 425. 426. 427. 428. 429. 430. 431. 432. 433. 434.\n 435. 436. 437. 438. 439. 440. 441. 442. 443. 444. 445. 446. 447. 448.\n 449. 450. 451. 452. 453. 454. 455. 456. 457. 458. 459. 460. 461. 462.\n 463. 464. 465. 466. 467. 468. 469. 470. 471. 472. 473. 474. 475. 476.\n 477. 478. 479. 480. 481. 482. 483. 484. 485. 486. 487. 488. 489. 490.\n 491. 492. 493. 494. 495. 496. 497. 498. 499. 500.].\nReshape your data either using array.reshape(-1, 1) if your data has a single feature or array.reshape(1, -1) if it contains a single sample.",
     "output_type": "error",
     "traceback": [
      "\u001b[1;31m---------------------------------------------------------------------------\u001b[0m",
      "\u001b[1;31mValueError\u001b[0m                                Traceback (most recent call last)",
      "\u001b[1;32m~\\AppData\\Local\\Temp\\ipykernel_2076\\2773422025.py\u001b[0m in \u001b[0;36m<module>\u001b[1;34m\u001b[0m\n\u001b[1;32m----> 1\u001b[1;33m \u001b[0mmodel\u001b[0m\u001b[1;33m.\u001b[0m\u001b[0mfit\u001b[0m\u001b[1;33m(\u001b[0m\u001b[0mX\u001b[0m\u001b[1;33m,\u001b[0m \u001b[0mY\u001b[0m\u001b[1;33m)\u001b[0m\u001b[1;33m\u001b[0m\u001b[1;33m\u001b[0m\u001b[0m\n\u001b[0m",
      "\u001b[1;32mE:\\Multimedia\\Anaconda\\lib\\site-packages\\sklearn\\linear_model\\_base.py\u001b[0m in \u001b[0;36mfit\u001b[1;34m(self, X, y, sample_weight)\u001b[0m\n\u001b[0;32m    660\u001b[0m         \u001b[0maccept_sparse\u001b[0m \u001b[1;33m=\u001b[0m \u001b[1;32mFalse\u001b[0m \u001b[1;32mif\u001b[0m \u001b[0mself\u001b[0m\u001b[1;33m.\u001b[0m\u001b[0mpositive\u001b[0m \u001b[1;32melse\u001b[0m \u001b[1;33m[\u001b[0m\u001b[1;34m\"csr\"\u001b[0m\u001b[1;33m,\u001b[0m \u001b[1;34m\"csc\"\u001b[0m\u001b[1;33m,\u001b[0m \u001b[1;34m\"coo\"\u001b[0m\u001b[1;33m]\u001b[0m\u001b[1;33m\u001b[0m\u001b[1;33m\u001b[0m\u001b[0m\n\u001b[0;32m    661\u001b[0m \u001b[1;33m\u001b[0m\u001b[0m\n\u001b[1;32m--> 662\u001b[1;33m         X, y = self._validate_data(\n\u001b[0m\u001b[0;32m    663\u001b[0m             \u001b[0mX\u001b[0m\u001b[1;33m,\u001b[0m \u001b[0my\u001b[0m\u001b[1;33m,\u001b[0m \u001b[0maccept_sparse\u001b[0m\u001b[1;33m=\u001b[0m\u001b[0maccept_sparse\u001b[0m\u001b[1;33m,\u001b[0m \u001b[0my_numeric\u001b[0m\u001b[1;33m=\u001b[0m\u001b[1;32mTrue\u001b[0m\u001b[1;33m,\u001b[0m \u001b[0mmulti_output\u001b[0m\u001b[1;33m=\u001b[0m\u001b[1;32mTrue\u001b[0m\u001b[1;33m\u001b[0m\u001b[1;33m\u001b[0m\u001b[0m\n\u001b[0;32m    664\u001b[0m         )\n",
      "\u001b[1;32mE:\\Multimedia\\Anaconda\\lib\\site-packages\\sklearn\\base.py\u001b[0m in \u001b[0;36m_validate_data\u001b[1;34m(self, X, y, reset, validate_separately, **check_params)\u001b[0m\n\u001b[0;32m    579\u001b[0m                 \u001b[0my\u001b[0m \u001b[1;33m=\u001b[0m \u001b[0mcheck_array\u001b[0m\u001b[1;33m(\u001b[0m\u001b[0my\u001b[0m\u001b[1;33m,\u001b[0m \u001b[1;33m**\u001b[0m\u001b[0mcheck_y_params\u001b[0m\u001b[1;33m)\u001b[0m\u001b[1;33m\u001b[0m\u001b[1;33m\u001b[0m\u001b[0m\n\u001b[0;32m    580\u001b[0m             \u001b[1;32melse\u001b[0m\u001b[1;33m:\u001b[0m\u001b[1;33m\u001b[0m\u001b[1;33m\u001b[0m\u001b[0m\n\u001b[1;32m--> 581\u001b[1;33m                 \u001b[0mX\u001b[0m\u001b[1;33m,\u001b[0m \u001b[0my\u001b[0m \u001b[1;33m=\u001b[0m \u001b[0mcheck_X_y\u001b[0m\u001b[1;33m(\u001b[0m\u001b[0mX\u001b[0m\u001b[1;33m,\u001b[0m \u001b[0my\u001b[0m\u001b[1;33m,\u001b[0m \u001b[1;33m**\u001b[0m\u001b[0mcheck_params\u001b[0m\u001b[1;33m)\u001b[0m\u001b[1;33m\u001b[0m\u001b[1;33m\u001b[0m\u001b[0m\n\u001b[0m\u001b[0;32m    582\u001b[0m             \u001b[0mout\u001b[0m \u001b[1;33m=\u001b[0m \u001b[0mX\u001b[0m\u001b[1;33m,\u001b[0m \u001b[0my\u001b[0m\u001b[1;33m\u001b[0m\u001b[1;33m\u001b[0m\u001b[0m\n\u001b[0;32m    583\u001b[0m \u001b[1;33m\u001b[0m\u001b[0m\n",
      "\u001b[1;32mE:\\Multimedia\\Anaconda\\lib\\site-packages\\sklearn\\utils\\validation.py\u001b[0m in \u001b[0;36mcheck_X_y\u001b[1;34m(X, y, accept_sparse, accept_large_sparse, dtype, order, copy, force_all_finite, ensure_2d, allow_nd, multi_output, ensure_min_samples, ensure_min_features, y_numeric, estimator)\u001b[0m\n\u001b[0;32m    962\u001b[0m         \u001b[1;32mraise\u001b[0m \u001b[0mValueError\u001b[0m\u001b[1;33m(\u001b[0m\u001b[1;34m\"y cannot be None\"\u001b[0m\u001b[1;33m)\u001b[0m\u001b[1;33m\u001b[0m\u001b[1;33m\u001b[0m\u001b[0m\n\u001b[0;32m    963\u001b[0m \u001b[1;33m\u001b[0m\u001b[0m\n\u001b[1;32m--> 964\u001b[1;33m     X = check_array(\n\u001b[0m\u001b[0;32m    965\u001b[0m         \u001b[0mX\u001b[0m\u001b[1;33m,\u001b[0m\u001b[1;33m\u001b[0m\u001b[1;33m\u001b[0m\u001b[0m\n\u001b[0;32m    966\u001b[0m         \u001b[0maccept_sparse\u001b[0m\u001b[1;33m=\u001b[0m\u001b[0maccept_sparse\u001b[0m\u001b[1;33m,\u001b[0m\u001b[1;33m\u001b[0m\u001b[1;33m\u001b[0m\u001b[0m\n",
      "\u001b[1;32mE:\\Multimedia\\Anaconda\\lib\\site-packages\\sklearn\\utils\\validation.py\u001b[0m in \u001b[0;36mcheck_array\u001b[1;34m(array, accept_sparse, accept_large_sparse, dtype, order, copy, force_all_finite, ensure_2d, allow_nd, ensure_min_samples, ensure_min_features, estimator)\u001b[0m\n\u001b[0;32m    767\u001b[0m             \u001b[1;31m# If input is 1D raise error\u001b[0m\u001b[1;33m\u001b[0m\u001b[1;33m\u001b[0m\u001b[0m\n\u001b[0;32m    768\u001b[0m             \u001b[1;32mif\u001b[0m \u001b[0marray\u001b[0m\u001b[1;33m.\u001b[0m\u001b[0mndim\u001b[0m \u001b[1;33m==\u001b[0m \u001b[1;36m1\u001b[0m\u001b[1;33m:\u001b[0m\u001b[1;33m\u001b[0m\u001b[1;33m\u001b[0m\u001b[0m\n\u001b[1;32m--> 769\u001b[1;33m                 raise ValueError(\n\u001b[0m\u001b[0;32m    770\u001b[0m                     \u001b[1;34m\"Expected 2D array, got 1D array instead:\\narray={}.\\n\"\u001b[0m\u001b[1;33m\u001b[0m\u001b[1;33m\u001b[0m\u001b[0m\n\u001b[0;32m    771\u001b[0m                     \u001b[1;34m\"Reshape your data either using array.reshape(-1, 1) if \"\u001b[0m\u001b[1;33m\u001b[0m\u001b[1;33m\u001b[0m\u001b[0m\n",
      "\u001b[1;31mValueError\u001b[0m: Expected 2D array, got 1D array instead:\narray=[  1.   2.   3.   4.   5.   6.   7.   8.   9.  10.  11.  12.  13.  14.\n  15.  16.  17.  18.  19.  20.  21.  22.  23.  24.  25.  26.  27.  28.\n  29.  30.  31.  32.  33.  34.  35.  36.  37.  38.  39.  40.  41.  42.\n  43.  44.  45.  46.  47.  48.  49.  50.  51.  52.  53.  54.  55.  56.\n  57.  58.  59.  60.  61.  62.  63.  64.  65.  66.  67.  68.  69.  70.\n  71.  72.  73.  74.  75.  76.  77.  78.  79.  80.  81.  82.  83.  84.\n  85.  86.  87.  88.  89.  90.  91.  92.  93.  94.  95.  96.  97.  98.\n  99. 100. 101. 102. 103. 104. 105. 106. 107. 108. 109. 110. 111. 112.\n 113. 114. 115. 116. 117. 118. 119. 120. 121. 122. 123. 124. 125. 126.\n 127. 128. 129. 130. 131. 132. 133. 134. 135. 136. 137. 138. 139. 140.\n 141. 142. 143. 144. 145. 146. 147. 148. 149. 150. 151. 152. 153. 154.\n 155. 156. 157. 158. 159. 160. 161. 162. 163. 164. 165. 166. 167. 168.\n 169. 170. 171. 172. 173. 174. 175. 176. 177. 178. 179. 180. 181. 182.\n 183. 184. 185. 186. 187. 188. 189. 190. 191. 192. 193. 194. 195. 196.\n 197. 198. 199. 200. 201. 202. 203. 204. 205. 206. 207. 208. 209. 210.\n 211. 212. 213. 214. 215. 216. 217. 218. 219. 220. 221. 222. 223. 224.\n 225. 226. 227. 228. 229. 230. 231. 232. 233. 234. 235. 236. 237. 238.\n 239. 240. 241. 242. 243. 244. 245. 246. 247. 248. 249. 250. 251. 252.\n 253. 254. 255. 256. 257. 258. 259. 260. 261. 262. 263. 264. 265. 266.\n 267. 268. 269. 270. 271. 272. 273. 274. 275. 276. 277. 278. 279. 280.\n 281. 282. 283. 284. 285. 286. 287. 288. 289. 290. 291. 292. 293. 294.\n 295. 296. 297. 298. 299. 300. 301. 302. 303. 304. 305. 306. 307. 308.\n 309. 310. 311. 312. 313. 314. 315. 316. 317. 318. 319. 320. 321. 322.\n 323. 324. 325. 326. 327. 328. 329. 330. 331. 332. 333. 334. 335. 336.\n 337. 338. 339. 340. 341. 342. 343. 344. 345. 346. 347. 348. 349. 350.\n 351. 352. 353. 354. 355. 356. 357. 358. 359. 360. 361. 362. 363. 364.\n 365. 366. 367. 368. 369. 370. 371. 372. 373. 374. 375. 376. 377. 378.\n 379. 380. 381. 382. 383. 384. 385. 386. 387. 388. 389. 390. 391. 392.\n 393. 394. 395. 396. 397. 398. 399. 400. 401. 402. 403. 404. 405. 406.\n 407. 408. 409. 410. 411. 412. 413. 414. 415. 416. 417. 418. 419. 420.\n 421. 422. 423. 424. 425. 426. 427. 428. 429. 430. 431. 432. 433. 434.\n 435. 436. 437. 438. 439. 440. 441. 442. 443. 444. 445. 446. 447. 448.\n 449. 450. 451. 452. 453. 454. 455. 456. 457. 458. 459. 460. 461. 462.\n 463. 464. 465. 466. 467. 468. 469. 470. 471. 472. 473. 474. 475. 476.\n 477. 478. 479. 480. 481. 482. 483. 484. 485. 486. 487. 488. 489. 490.\n 491. 492. 493. 494. 495. 496. 497. 498. 499. 500.].\nReshape your data either using array.reshape(-1, 1) if your data has a single feature or array.reshape(1, -1) if it contains a single sample."
     ]
    }
   ],
   "source": [
    "model.fit(X, Y)"
   ]
  },
  {
   "cell_type": "code",
   "execution_count": null,
   "id": "c7ac9a0c",
   "metadata": {},
   "outputs": [],
   "source": []
  }
 ],
 "metadata": {
  "kernelspec": {
   "display_name": "Python 3 (ipykernel)",
   "language": "python",
   "name": "python3"
  },
  "language_info": {
   "codemirror_mode": {
    "name": "ipython",
    "version": 3
   },
   "file_extension": ".py",
   "mimetype": "text/x-python",
   "name": "python",
   "nbconvert_exporter": "python",
   "pygments_lexer": "ipython3",
   "version": "3.9.13"
  }
 },
 "nbformat": 4,
 "nbformat_minor": 5
}
